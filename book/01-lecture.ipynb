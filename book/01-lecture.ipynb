{
 "cells": [
  {
   "cell_type": "markdown",
   "id": "e21b1c1b-7d0f-4521-9b16-288fbec6e691",
   "metadata": {},
   "source": [
    "# A Short History of CFD and High Performance Computing"
   ]
  },
  {
   "cell_type": "markdown",
   "id": "4675b1a7-80aa-4375-969c-0ffb26879daf",
   "metadata": {},
   "source": [
    "```{note}\n",
    "The source files for this lecture are available at this [link](https://github.com/rblack42/CFD-talk).\n"
   ]
  },
  {
   "cell_type": "markdown",
   "id": "e62f1c74-56a0-4137-b511-2908c7192987",
   "metadata": {},
   "source": [
    "## Why are you here?\n",
    "\n",
    "Hopefully, like me, you are fascinated by flight and want to understand what makes it possible. That idea has been a part of human history for as long as people watched bird-like critters navigate the sky. How in the world do they do that? We might have been fascinated by flying insects, but we usually just want to swat those things!"
   ]
  },
  {
   "cell_type": "markdown",
   "id": "a730d48b-9284-4e64-a238-34ce70412322",
   "metadata": {},
   "source": [
    "I was born in Washington, D.C. At about age three, I was introduced to the Smithsonian Institute, where I got a good look at my first airplane. Two years before I was born, Dr. Paul Garber, Curator Emeritus of the *Air and Space Museum*, brought the *Wright Flyer* back from England to be displayed there. Here is an image of its debut!\n",
    "\n",
    "```{image} assets/images/wright-flyer.png\n",
    ":alt: Wrigit Flyer Smithsonian Debut\n",
    ":class: bg-primary mb-1\n",
    ":width: 400px\n",
    ":align: center\n",
    "```\n",
    "\n",
    "```{note}\n",
    "I met Dr. Garber at a water fountain in 1956 when I was visiting the *American Aviation Historical Society* offices in the Smithsonian. Turns out a kid is too short to see the \"Public Not Allowed Past this Point\" signs, and I wandered into those offices one day. They let me help file papers, including a postcard from Glenn Curtiss to Orville Wright! They even took me out into the galleries and climb up a scaffold to get a close look at Curtiss's 1910 Headless Pusher!\n",
    "```"
   ]
  },
  {
   "cell_type": "markdown",
   "id": "3ec1889a-614a-4fb2-af87-d81ee4233a5b",
   "metadata": {},
   "source": [
    "## Human Flight"
   ]
  },
  {
   "cell_type": "markdown",
   "id": "87a80a81-7663-439e-8332-db7f2cb64f3a",
   "metadata": {},
   "source": [
    "When the idea of flying first struck humans, the best thing they could think to do was build a machine of some kind and jump off a cliff! Not very smart, but what else could you do? Perhaps make sure the cliff is very short!\n",
    "\n",
    "```{image} assets/images/DaVinci.jpg\n",
    ":alt: Da Vinci Flying Machine\n",
    ":class: bg-primary mb-1\n",
    ":width: 400px\n",
    ":align: center\n",
    "```\n",
    "\n",
    "Leonardo was obviously interested in flight and produced many drawings of ideas for machines that might fly. (I have a set of DVDs with a copy of all of his drawings!) None of them were very practical, but they showed what folks were thinking about back around 1500. "
   ]
  },
  {
   "cell_type": "markdown",
   "id": "3c77fcd3-6f24-4bca-bc59-46f668212d7c",
   "metadata": {},
   "source": [
    "Eventually, it occurred to them that models of potential machines might save them some broken bones.\n",
    "\n",
    "\n",
    "```{image} assets/images/lpp.gif\n",
    ":alt: Limiter Penny Plane\n",
    ":class: bg-primary mb-1\n",
    ":width: 400px\n",
    ":align: center\n",
    "```\n",
    "\n",
    "Most of you have never seen anything like this. This is my design for an indoor model airplane called a \"Limited Penny Plane*, which must not weigh more than one U.S. Penny! A rubber band powers it. This kind of model has the potential to fly in a large auditorium for around 10 minutes. It cruises at a staggering 4 miles per hour!\n",
    "\n",
    "Figuring out how to build and fly machines like this was how I began my journey to become an Aerospace Engineer. "
   ]
  },
  {
   "cell_type": "markdown",
   "id": "8fbde410-e951-4863-8dbd-dbb91582cac3",
   "metadata": {},
   "source": [
    "Building real airplanes used to require building sophisticated models, usually made of metal, and mounting them in a *Wind Tunnel* that looked something like this:\n",
    "\n",
    "\n",
    "```{image} assets/images/yf-12-wind-tunnel.png\n",
    ":alt: YF-12 WInd Tunnel Model\n",
    ":class: bg-primary mb-1\n",
    ":width: 400px\n",
    ":align: center\n",
    "```\n",
    "\n",
    "```{note}\n",
    "This model shows the YF-12 design produced by the *Skunk Works* at Lockheed. It flew at Mach 3 in 1963! This design evolved into the SR-71 reconnaissance airplane. There are still a few of these flying today (at NASA!)\n",
    "```\n",
    "\n",
    "Obviously, building models like this one is a very expensive operation, and you really want to be sure the design is sound before committing to this!\n",
    "\n",
    "Wind tunnels have one big advantage, though. They use real air and blast it past the model at very high speeds giving us a very good way to figure out how the \"real\" airplane will fly. \n",
    "\n",
    "That is, if we can figure out how to measure things. If you look closely, many probes are mounted on this model in front of the left engine nacelle. These will be used to measure some of the properties of the air moving by the model. This \"experimental\" data is vital in our work, especially when we try to develop new methods for predicting how a design will fly! Good CFD programs use wind tunnel data to validate their operation."
   ]
  },
  {
   "cell_type": "markdown",
   "id": "7a9c3eae-e02a-4f10-92e8-624155f30531",
   "metadata": {},
   "source": [
    "## The Numerical Wind Tunnel"
   ]
  },
  {
   "cell_type": "markdown",
   "id": "c422bfeb-f842-4555-bb00-006fd71af679",
   "metadata": {
    "jp-MarkdownHeadingCollapsed": true
   },
   "source": [
    "Wouldn't it be nice to do away with all that model machining and take a design straight off of paper and plug it into some computerized model and get the same data much more easily and at a much lower cost? Shoot, we could vary model and fluid parameters and use our \"Numerical Wind Tunnel\" to refine the design without touching anything metal!\n",
    "\n",
    "That was our goal back in the 1970s when I was assigned as a research scientist at the *Aerospace Research Laboratory* at *Wright-Patterson Air Force Base* in Dayton, Ohio - home of the *Wight Brothers*, who actually flew off of a field that is now part of the base. (I even learned to fly over that same field - cool!)\n",
    "\n",
    "That idea has been the \"Holy Grail\" of COmputational Aeronautical Engineering for as long as computers became powerful enough to make that idea seem practical!\n",
    "\n",
    "But it took a long time to get computers to that point. Let's take a quick look at how computers developed and how \"Computational Fluid Dynamics\" really got started."
   ]
  },
  {
   "cell_type": "markdown",
   "id": "76c35154-3bcc-4c3b-9c42-4593a3117562",
   "metadata": {},
   "source": [
    "## Scientist or Engineer"
   ]
  },
  {
   "cell_type": "markdown",
   "id": "9ab3e616-5536-4c82-81d0-3d4c41238bc4",
   "metadata": {
    "jp-MarkdownHeadingCollapsed": true
   },
   "source": [
    "One thing happened to me very early, a direct result of growing up in the Smithsonian! I wanted to understand how things work. Specifically, I wanted to know how flight worked. I developed a drive to dig deeper into what was going on in everything I touched (well, except for people - they are too tough to understand! Watch the news today to see what I mean!) I became a curious person (no giggles from the gallery, please.) That curiosity drove me to learn about many different things, which has served me well in my career. I never had a job where my bosses did not respect my capabilities or opinions. I am pretty happy with that! All of that background is what led me into teaching - so I could pass that knowledge on to the next generation!"
   ]
  },
  {
   "cell_type": "markdown",
   "id": "72fe72ae-c2ec-4bd2-82d9-35777e58f4e7",
   "metadata": {
    "jp-MarkdownHeadingCollapsed": true
   },
   "source": [
    "I have thought about this question a lot in my life:\n",
    "\n",
    "> Am I a scientist or an engineer?\n",
    "\n",
    "Engineers have a problem to solve. They want something that *works*. Working results are very important to them. Ok, I admit, just working is not enough. Their working result has to be safe and reliable as well!\n",
    "\n",
    "Scientists want to know more; they want to know *why* that thing works. The drive to know why might take them into worlds they have never seen. Look at the history of Physics, especially *Quantum Physics* to see where Physics has taken us!\n",
    "\n",
    "Unfortunately, you never hear about *Aeronautical Scientists*, but they are out there. They are researchers seeking ways to improve what we know about fluid motion that we can use to make flight work better and better. Are they still engineers? You decide!"
   ]
  },
  {
   "cell_type": "markdown",
   "id": "7fda2ab2-9f50-4dc9-935f-e4f161c16d6d",
   "metadata": {},
   "source": [
    "## The Mathematics of Flight"
   ]
  },
  {
   "cell_type": "markdown",
   "id": "3ff2de74-7fbc-4912-ae70-ecf5a1c00bff",
   "metadata": {},
   "source": [
    "Since flying was hard, most scientists only dreamed of doing that \"someday.\" The mathematicians were not going to wait. They wanted to understand what was going on up in that air stuff.\n",
    "\n",
    "Back in 1687, Isaac Newton came up with a few rules that described how things move. Around the same time, Gottfried Leibniz developed calculus. In 1715, Brooke Taylor developed a way to represent a function as an infinite series of derivatives of that function. In 1850, William Rankine worked out a few laws of thermodynamics, which enabled us to describe how energy could be added to the mix. Finally, in 1822, Claude-Louis Navier and, later in 1850, George Stokes together produced what we now call the continuity and momentum equations. Mix in a few principles from chemistry, and all we need now is a way to solve this complex system of equations.\n",
    "\n",
    "The *Navier-Stokes Equations* assume that our fluid, air, is a continuous medium. These equations describe how a set of fundamental physical properties change from place to place and from moment to moment. The equations are hard to derive and even harder to solve. \n",
    "\n",
    "Back when these equations were first written down, the scientists of the day could not find any complete solutions to these equations. What they could do was slice off terms, hoping to get to a point where they could solve something. They had some success in this work, and many of the simplified techniques they developed helped power the evolution of flying vehicles. \n",
    "\n",
    "Eventually, mathematicians, including Isaac Newton, worked on representing the derivatives of a function as an infinite series of simple terms - and the *finite difference* was born. That allowed them to take extremely complex differential equations and *approximate* them with algebraic equations. There was some hope we could solve those, but the calculations would be tough to do. Grinding through the calculations was going to take a *long* time. Also, in working with these approximate equations, we introduced errors in the solutions. We would need to study those errors to decide if we liked the answers we were getting!\n",
    "\n",
    "At this point, we really needed some help to do the boring *number-crunching* work. We now need to see how computers came to enter the picture!"
   ]
  },
  {
   "cell_type": "markdown",
   "id": "f25bb1d0-5f9b-405a-a408-35b51597dc5f",
   "metadata": {},
   "source": [
    "## Basic Computers"
   ]
  },
  {
   "cell_type": "markdown",
   "id": "fb8df24e-6bf0-4a62-94bc-92e1ea59e5cc",
   "metadata": {},
   "source": [
    "I used to start off my classes on *Computer Architecture* with this simple statement:\n",
    "\n",
    "> Computers are stupid! They are just stupid so fast; they look smart!\n",
    "\n",
    "We have been working on building machines that could do simple math for a long time. One of the earliest such machines looked like this:\n",
    "\n",
    "```{image} assets/images/abacus.png\n",
    ":alt: Chinese Abacus\n",
    ":class: bg-primary mb-1\n",
    ":width: 400px\n",
    ":align: center\n",
    "```\n",
    "\n",
    "These gadgets have been used since around 200 B.C.! I watched a merchant flip those beads when I bought one while on a trip to China in 1995. It was an amazing experience! \n",
    "\n",
    "This is not really a machine. But it did help humans track things as they did \"arithmetic!\""
   ]
  },
  {
   "cell_type": "markdown",
   "id": "1f2c2a46-39ee-4729-a57e-80dc833c32c6",
   "metadata": {},
   "source": [
    "Building actual machines that could help us humans do math was a long, arduous process. We had problems actually constructing machines with the complexity to do much, even adding and subtracting! Eventually, we managed to come up with some clever machines. Some worked, but many did not!\n",
    "\n",
    "Here is a *Curta Calculator* that appeared right after World War II. I used this beast in my early aero classes when the professors wanted more accuracy than I could get from my trusty slide rule!\n",
    "\n",
    "```{image} assets/images/CurtaCalculator.jpg\n",
    ":alt: Curta Calculator\n",
    ":class: bg-primary mb-1\n",
    ":width: 400px\n",
    ":align: center\n",
    "```"
   ]
  },
  {
   "cell_type": "markdown",
   "id": "12ed90fd-bc51-4e2d-9723-5f38a0020ad1",
   "metadata": {},
   "source": [
    "## World War II"
   ]
  },
  {
   "cell_type": "markdown",
   "id": "6019d515-a1af-41d7-9be4-042b2b4cb5a2",
   "metadata": {},
   "source": [
    "The push to develop fast machines that could \"crunch numbers\" took off in earnest during World War II. Calculating tables used to aim guns at bad guys and breaking complex codes used to encrypt messages was a serious business.\n",
    "\n",
    "Most of the work on these problems involved rooms full of people (usually women, since most men were on the front lines). Crunching numbers used mechanical calculators or was even even by hand using pencil and paper! They clearly needed something faster. "
   ]
  },
  {
   "cell_type": "markdown",
   "id": "c52c45fd-fc54-4238-93b1-5701ed2cf1fe",
   "metadata": {},
   "source": [
    "### Harvard Mark I"
   ]
  },
  {
   "cell_type": "markdown",
   "id": "267cd763-8af4-433e-8d80-b4d1e33a0fad",
   "metadata": {},
   "source": [
    "In 1944, Howard Aiken at Harvard University constructed an electro-mechanical machine using vacuum tubes, relays, and even motor-driven spinning mechanical gadgets that were common in calculators of the day. It worked, but it was hard to keep it running.\n",
    "\n",
    "```{image} assets/images/Harvard-Mark-1.jpg\n",
    ":alt: Von Neumann Machine\n",
    ":class: bg-primary mb-1\n",
    ":width: 400px\n",
    ":align: center\n",
    "```\n",
    "\n",
    "Grace Hopper, the first female to reach the rank of Admiral in the U.S. Navy, worked on this machine and is considered one of the first computer programmers. (Ada Agusta Lovelace probably thought up the idea of programming around 1843!)\n"
   ]
  },
  {
   "cell_type": "markdown",
   "id": "6c371cea-bf68-4eb1-8a6f-e2a5ce91c95b",
   "metadata": {},
   "source": [
    "### Von Neumann"
   ]
  },
  {
   "cell_type": "markdown",
   "id": "e2f4c6e1-ca08-4c7d-a60c-4abbdf9b9a7d",
   "metadata": {},
   "source": [
    "While working on the Manhattan Project, John Von Neumann published a paper in 1945 laying out the basic architecture of a \"stored program\" computer. Since then, all computing machines have basically used his architecture. In fact, they are called \"Von Neumann Machines\":\n",
    "\n",
    "```{image} assets/images/von-neumann-machine.png\n",
    ":alt: Von Neumann Machine\n",
    ":class: bg-primary mb-1\n",
    ":width: 400px\n",
    ":align: center\n",
    "```\n",
    "\n",
    "The basic idea for how this would work is something I call the *Texas Four-Step* (I was teaching all this in Texas after all!):\n",
    "\n",
    "- *Fetch* - transfer an *instruction* from program memory into the *Control Unit*\n",
    "-  *Decode* - break apart the instruction and configure the *Control Unit*\n",
    "-  *Execute* - Process the instruction, maybe do some math\n",
    "-  *Store* - save the results somewhere, maybe back in memory\n",
    "\n",
    "You repeat this process to the beat of something we call a *Clock*, that ticks along. These days that clock ticks billions of times each second. Amazing!"
   ]
  },
  {
   "cell_type": "markdown",
   "id": "ad2805ff-361e-4279-86ab-7ec3281ddcf4",
   "metadata": {},
   "source": [
    "### ENIAC"
   ]
  },
  {
   "cell_type": "markdown",
   "id": "49eba5b6-3366-4bb1-874b-507ccc7a8a27",
   "metadata": {},
   "source": [
    "Von Neumann's work heavily influenced the design of the first fully electronic computer, which was first fired up in 1945:\n",
    "\n",
    "```{image} assets/images/eniac.png\n",
    ":alt: ENIAC - First Electronic Computer\n",
    ":class: bg-primary mb-1\n",
    ":width: 400px\n",
    ":align: center\n",
    "```\n",
    "\n",
    "This beast had 17,000 vacuum tubes, and 1500 relays, weighed 30 tons, and it cost $487,000 back then! Programming was done using \"patch panels,\" which were basically wires plugged into special sockets, and eventually using punched cards. There was no high-level language! But it worked, and computer science took off!"
   ]
  },
  {
   "cell_type": "markdown",
   "id": "9b25b23c-16cc-4621-86aa-55d182efda4b",
   "metadata": {},
   "source": [
    "## The Mainframe Era"
   ]
  },
  {
   "cell_type": "markdown",
   "id": "46ee05b2-f004-4d58-aead-6476036567de",
   "metadata": {},
   "source": [
    "Between 1945 and 1971, the computer world was dominated by mainframe computer systems. These machines were huge and very expensive. Only big corporations (and universities) could afford them. The machines were locked up in \"machine rooms\" where only trained technicians could actually touch them!\n",
    "\n",
    "In 1964, when I started my aerospace engineering degree at Virginia Tech, the school had an IBM-360 computer, nearly identical to the machines (six of them) that NASA used to land Apollo 11 on the Moon.\n",
    "```{image} assets/images/ibm-360.png\n",
    ":alt: IBM-360\n",
    ":class: bg-primary mb-1\n",
    ":width: 400px\n",
    ":align: center\n",
    "```\n",
    "\n",
    "```{note}\n",
    "Programs were typed on \"Punch Machines,\" which produced one 80-character line of text per card. My Master's Thesis code fit in a metal tray about two feet long and had a nice leather handle to carry it. I slid that tray through a window to a technician, and usually a day later, got my tray back along with a huge pile of paper with the printed results!\n",
    "```\n",
    "\n",
    "By this time, transistors had been perfected, and the tubes and relays had disappeared. This made for cooler (temperature) machines that used less power. It also made them less expensive and much smaller.\n",
    "\n",
    "```{image} assets/images/SmallTransistor.jpg\n",
    ":alt: Early Transistor\n",
    ":class: bg-primary mb-1\n",
    ":width: 400px\n",
    ":align: center\n",
    "```"
   ]
  },
  {
   "cell_type": "markdown",
   "id": "ed46dde8-7226-4cb6-9253-4f95bd082509",
   "metadata": {},
   "source": [
    "## Supercomputers"
   ]
  },
  {
   "cell_type": "markdown",
   "id": "095fc0e6-2f39-4847-97b7-dc54fed9c70d",
   "metadata": {},
   "source": [
    "As mainframes became more sophisticated, there was a push to come up wit machines that could work much faster. It took clever designs to push in this direction. Fortunately, there were designers who understood how to make those electrons move more quickly! One of them was Seymore Cray."
   ]
  },
  {
   "cell_type": "markdown",
   "id": "494989de-9c4a-4e03-b884-911092b08904",
   "metadata": {},
   "source": [
    "### CDC-6600"
   ]
  },
  {
   "cell_type": "markdown",
   "id": "db64bf2b-490b-44fe-b3aa-750e4a736ae4",
   "metadata": {},
   "source": [
    "Around 1964, Seymore Cray introduced the CDC-6600, one of which was installed at Wright-Patterson Air Force Base and running in 1973 when I was assigned as an Air Force research scientist after graduate school.\n",
    "\n",
    "```{image} assets/images/cdc-6600.jpg\n",
    ":alt: CDC-6600 - First Supercomputer\n",
    ":class: bg-primary mb-1\n",
    ":width: 400px\n",
    ":align: center\n",
    "```\n",
    "\n",
    "This machine cost about $2.3 million and ran at 10MHz. It had 64-bit memory, all 982 kilobytes of it! This machine was where some serious CFD codes were being developed. The term \"supercomputer\" was first used to describe this machine, but it was hardly \"super\"!\n",
    "\n",
    "My first serious CFD code was developed on this machine and solved hypersonic flow over a simple missile flying at zero degrees angle-of-attack (axisymmetric flow) at Mach 6. It took 10 minutes of this machine's dedicated crunching time to get a printed result. I might be lucky and get the results on a magnetic tape I could later process to generate graphics displays, but such power was very new, and few knew how to make pictures appear. Sometimes we used pen plotters to draw graphics, but often we plotted things by hand! Sad!\n",
    "\n",
    "```{note}\n",
    "Around 1976, I  got a month-long assignment at *NASA Ames Research Center* in Mountain View, California, and took my code there. I made a movie showing the evolving solution. I will show this video after this lecture. (It is available in the lecture GitHub repository)\n",
    "```"
   ]
  },
  {
   "cell_type": "markdown",
   "id": "ad53564d-e515-4860-a33c-59b6b7d181b9",
   "metadata": {},
   "source": [
    "### ILLIAC IV"
   ]
  },
  {
   "cell_type": "markdown",
   "id": "47a00515-e3e6-4e2b-8e04-e966695ff645",
   "metadata": {},
   "source": [
    "NASA Ames also was the home of an experimental machine that basically looked like a series of CDC-6600 machines lined up in a row. The machine was potentially going to be fast, but the complexity of it kept it from becoming fully operational. I got a look at the machine on my visit:\n",
    "\n",
    "\n",
    "```{image} assets/images/illiac-4.jpg\n",
    ":alt: ILLIAC IV\n",
    ":class: bg-primary mb-1\n",
    ":width: 400px\n",
    ":align: center\n",
    "```\n",
    "\n",
    "This machine was supposed to have 256 floating point units, but they ran out of money before completion. It was not available for use while I was there."
   ]
  },
  {
   "cell_type": "markdown",
   "id": "83d84a62-a5ee-4eff-b080-a1add461c2a1",
   "metadata": {},
   "source": [
    "## Serious Supercomputers\n",
    "\n",
    "Seymore Cray got tired of working for CDC, and took several of the engineers with him to form *Cray Research\". Seymore designed a new machine that was designed for serious number crunching. Instead of setting up a simple two-number-adding device, he designed one that added two sets of 64 numbers together all at the same time. This was called a vector machine. He used some clever tricks to make his system go faster, one called pipelining, which broke up a single long-running operation into a sequence of steps, each running quickly. More input data could be loaded into the first stage since, as soon as the first stage was complete, it could accent new input rather than waiting until all stages were completed. \n",
    "\n",
    "```{image} assets/images/Cray-1.jpg\n",
    ":alt: Cray-1\n",
    ":class: bg-primary mb-1\n",
    ":width: 400px\n",
    ":align: center\n",
    "```\n",
    "The Cray-1 was an $8 million machine with 8 MB of memory. It was capable of 160 MFLOPS, which was impressive in its day!\n",
    "\n",
    "Vector machines had one problem. To maximize efficiency, you needed to make sure you had 64 numbers to add available simultaneously, so programming was pretty complex. This problem was eventually hidden behind supporting libraries and really smart compilers. Still, it took careful coding to really get speedy solutions.\n",
    "\n",
    "```{note}\n",
    "By the way, when I retired from the USAF, I was Acting Director of the *Philllips Laboratory Supercomputer Center* at Kirtland AFB, in Albuquerque, NM. I decommissioned one of the last Cray-1 machines in 1990!\n",
    "```\n",
    "\n",
    "My research group managed to get time on one of these machines being tested before delivery to a customer. The huge problem we had was the lack of a programming language (we were using Fortran!) Instead, we had to use *Cray Assembly Language*. I knew nothing about this, so I decided to figure it out."
   ]
  },
  {
   "cell_type": "markdown",
   "id": "c969ce10-693f-4550-9098-2c5ed3e4796a",
   "metadata": {},
   "source": [
    "## The Dawn of the Integrated Circuit"
   ]
  },
  {
   "cell_type": "markdown",
   "id": "6eba9176-7c62-4cb1-9d69-0974287cc30b",
   "metadata": {},
   "source": [
    "In 1971, Intel Corporation released a magical chip called the *Intel 4004*. This small chip lived inside a 16-pin case and contained all the basic parts needed to create a 4-bit calculating device. It was supposed to end up in hand-help calculators, but its real impact was to show that we could build computing devices in this new way - with *integrated circuits*!"
   ]
  },
  {
   "cell_type": "markdown",
   "id": "2a701b3f-9b2d-4f51-a9f2-36ab85ec0bcb",
   "metadata": {},
   "source": [
    "\n",
    "```{image} assets/images/intel-4004.png\n",
    ":alt: Intel 4004 Integrated Circuit\n",
    ":class: bg-primary mb-1\n",
    ":width: 300px\n",
    ":align: center\n",
    "```"
   ]
  },
  {
   "cell_type": "markdown",
   "id": "9aa558c8-3c0f-41ee-8d1b-e6d0210a9b8e",
   "metadata": {},
   "source": [
    "The 4004 was followed by a more useful one called the *Intel 8080*. Those chips ended up in the first computing device a normal human could buy if they were willing to build one from a kit! \n",
    "\n",
    "I could not quite afford the $450 it took to buy the kit, so I bought this gadget:\n",
    "\n",
    "\n",
    "```{image} assets/images/kim-1.png\n",
    ":alt: Kim-1 development board\n",
    ":class: bg-primary mb-1\n",
    ":width: 400px\n",
    ":align: center\n",
    "```\n",
    "\n",
    "This single board held an eight-bit chip, a staggering 1KB of ram, and an interface to a tape recorder. It had a seven-segment LED display for output and a way to connect it to a terminal of some kind. I used this device to learn assembly language, then worked through the Cray manuals to try to figure that language out. To my dismay, I discovered that each computer had a different assembly language! UGH!\n",
    "\n",
    "```{note}\n",
    "Believe it or not, there was a chess game for this critter that fit in 1KB of memory! The board cost \\$250, and my boss freaked out when I hooked it up to a \\$12000 graphics terminal I used for early work on computer graphics for my CFD code. \n",
    "```"
   ]
  },
  {
   "cell_type": "markdown",
   "id": "9110d5c7-5d4f-43ab-b979-77f9d547a61f",
   "metadata": {},
   "source": [
    "### Shrinking the Chips\n",
    "\n",
    "The technology used in building these integrated circuit devices was complicated. The chips were constructed in hyper-clean rooms. The materials needed to form the transistors, and interconnecting wires, were sprayed onto a silicon chip using a photographic mask that controlled where the gas landed. Many layers of this procedure formed all of the electronic parts needed. \n",
    "\n",
    "Early chips could build transistors as small as several millimeters in size, and we could put thousands of them in a chip an inch square. As they got better at this, suddenly, we could put millions of transistors in the same space. Chips like the Intel 8086, a 16-bit machine, appeared, and even useful home computers became possible. (Ever heard of a spreadsheet? That piece of software convinced IBM to release the first personal computer really designed for businesses. Well, accountants!)\n",
    "\n",
    "Just to give you some perspective, today's manufacturing can build a transistor as small as 3-4 nanometers. How small is that? Well human hair is about 10-80,000 times that big. We are now reaching the point where going any smaller might require moving atoms around. Did you know that IBM did just that in 1989?\n",
    "\n",
    "\n",
    "```{image} assets/images/ibm-logo.png\n",
    ":alt: CDC-6600 - First Supercomputer\n",
    ":class: bg-primary mb-1\n",
    ":width: 400px\n",
    ":align: center\n",
    "```\n",
    "\n",
    "Oh, and remember this! For each of the over a billion transistors we place on a chip, three wires are needed to hook it up to the other parts in a circuit! Those wires carry electrons that move at the speed of light, which is the limiting factor in defining the speed of our calculations!\n",
    "\n",
    "```{note}\n",
    "Physical electrons, those funny gadgets that carry an electronic charge and spin around in each atom, do not actually move that fast. They only move at about one millimeter per second. It is an electromagnetic wave that moves at the speed of light.\n",
    "```\n",
    "\n",
    "### Hitting the wall\n",
    "\n",
    "Eventually, we reached a point where making transistors smaller was pretty hard. But the computer processor parts were small enough that engineers had an idea. Why not put two processor chips on the silicon, interconnect them so they can share memory and input/output, and package a *dual-core* device. Intel released the *Pentium* dual-core processor in 1993. \n",
    "\n",
    "\n",
    "```{image} assets/images/intel-dual-core.png\n",
    ":alt: Intel Dual-Cire Pentium\n",
    ":class: bg-primary mb-1\n",
    ":width: 400px\n",
    ":align: center\n",
    "```\n",
    "\n",
    "These chips were built in a plant outside of Albuquerque, where I ran a Cray-2 supercomputer! I used to carry a Pentium chip on my key-chain, a gift from Intel when I toured the plant!"
   ]
  },
  {
   "cell_type": "markdown",
   "id": "181d9d74-3c1c-4e4e-95c8-5b3dded98ca5",
   "metadata": {},
   "source": [
    "## Multi-Core Supercomputers"
   ]
  },
  {
   "cell_type": "markdown",
   "id": "cc4d38bd-09aa-42da-82ac-8e57cde9b6ad",
   "metadata": {},
   "source": [
    "Using more than one processor in a pachine was not limited to just small machines. Seymore thought that would help his machines go faster as well."
   ]
  },
  {
   "cell_type": "markdown",
   "id": "759841a2-f02e-4426-8e5a-94a9035348ee",
   "metadata": {},
   "source": [
    "## Cray-2"
   ]
  },
  {
   "cell_type": "markdown",
   "id": "3200644a-cf7d-40c1-a5b8-7ec92d7e1be5",
   "metadata": {},
   "source": [
    "Seymore Cray was always looking for \"More Power.\" The problem was that running faster generated more heat and used more electricity. The Cray 2, introduced in 1985, was Cray's first venture into a multi-core supercomputer. The design was unique. It had four processors and could reach 1.9 GFLOPS! The entire machine was emersed in an inert coolant that circulated through cooling towers to dissipate the heat! (It looked like a giant fish tank. (Not goldfish, \"Cray Fish\"! Yuck, Yuck!) When it was introduced, it was the fastest machine on the planet!\n",
    "\n",
    "\n",
    "```{image} assets/images/cray-2.jpg\n",
    ":alt: Cray-2 Supercomputer\n",
    ":class: bg-primary mb-1\n",
    ":width: 400px\n",
    ":align: center\n",
    "```\n",
    "\n",
    "It was so fast we used an IBM mainframe to feed it and extract the data from a run!\n",
    "\n",
    "Big Supercomputers like this continued to evolve. Many machines were developed that tried to compete with Cray, but the writing was on the wall! Those small \"personal computers\" were getting powerful enough to do some serious work. We also now had a nice network system, which began back when I was at ARL as the *ARPANET* and evolved into the *Internet*. By 1990, many machines could communicate and transfer data and code back and forth. Time for a new idea!"
   ]
  },
  {
   "cell_type": "markdown",
   "id": "09bc2823-aa8d-44d6-b10b-7d96a87dc4f3",
   "metadata": {},
   "source": [
    "### Beowulf\n",
    "\n",
    "In 1998, NASA engineers thought that hooking up a number of machines using network technology would generate a useful machine. Techniques for passing data back and forth were developed using a scheme called *message passing*. These machines all ran a version of *Linux*, largely because it was way too expensive to install something like *Windoze* on many machines. *Beowulf* was the name given to this architecture, and it started off a revolution.\n",
    "\n",
    "Suddenly, we could multiply the processing power of a single machine by the number of small machines we decided to hook up. Well, not so fast! We still face the problem of transferring bits over a network.\n",
    "\n",
    "Grace Hopper, one of the first programmers on the Mark-1 team, used to carry a piece of wire 11.5 inches long to meetings. She would tell them: \"This is how far electrons go in one nanosecond.\"  That is one billionth of a second! Machines today are running at clock speeds of several billion ticks per second, so we actually need to worry about how far electrons need to move between internal components! Also, remember that floating point operations do not usually happen in a single clock tick.\n",
    "\n",
    "Simple networks could only move 10 million bits per second between machines. Not really fast, but as long as the program spends most of its time doing calculations, the data could keep up. Eventually, network speeds increased. Today we can reach a billion bits per second if you are willing to buy fast (more expensive) hardware.\n",
    "\n",
    "Eventually, cluster software was developed, and the idea really took off. There were cluster machines popping up all over. Schools hooked up a lab full of computers to build a cluster. \n",
    "\n",
    "As machines got cheaper, folks like me bought several small machines for testing. I used Intel NUC computers to build a four-node cluster for testing in my home shop."
   ]
  },
  {
   "cell_type": "markdown",
   "id": "9b35b81f-48a2-404a-893d-de7431f87b5e",
   "metadata": {},
   "source": [
    "## Clustered Supercomputers. \n",
    "\n",
    "Not to be outdone, the supercomputer world went to work on the bottleneck - the network. They started looking into ways to speed up the data transfer rate between independent machines. The results were impressive. Instead of moving data at one billion bits per second, they could reach speeds of over 200 Gbps! \n",
    "\n",
    "We are off and running again!\n",
    "\n",
    "```{image} assets/images/connection-machine.jpg\n",
    ":alt: COnnection Machine\n",
    ":class: bg-primary mb-1\n",
    ":width: 400px\n",
    ":align: center\n",
    "```\n",
    "\n",
    "This machine, one of which I saw at Los Alamos National Laboratory in 1991, contained 65536 microprocessors, each with four kilobytes of memory.\n",
    "\n",
    "``{note}\n",
    "It was fun to watch all the blinky lights when this beast ran - especially in a dark room!\n",
    "```\n",
    "\n",
    "Can we do better?"
   ]
  },
  {
   "cell_type": "markdown",
   "id": "3fca4603-5379-4d22-89cc-b6167ce59bfc",
   "metadata": {},
   "source": [
    "### Enter the Gaming Folks!\n",
    "\n",
    "One annoying development in the history of computers is the development of the greatest time-waster in history - the video game! Unfortunately, these things can suck productivity out of a player faster than a supercomputer!\n",
    "\n",
    "However, there is a plus side!\n",
    "\n",
    "A video game displays millions of dots on a screen, each a specific color. Those dots are so tiny humans do not notice them. Each dot needs around 24 bits of data to define the color somewhere in the machine's memory. If you want something on the screen to move, you must move many bits around in memory! There is also a lot of math needed to figure out if your moving object has bumped into some other object. The computer can do this work, but a lot of it is just a tedious repetition of some basic process. Why don't we build some device to do that nasty work? Enter the *Graphics Processing Unit*, or *GPU*\n",
    "\n",
    "The basic idea behind this gadget is simple; do the same operation on a bunch of different data. This is called *Single Instruction Multiple Data* or **SIMD**. \n",
    "\n",
    "There is more to these devices, but their development proceeded along, and some amazing boards were developed that make gamers very happy. (Not so much the space aliens, though!)\n",
    "\n",
    "Eventually, software folks discovered that they could develop code that could offload other kinds of processing on these boards. This processing did not reach a screen; the final results were back-loaded to the main computer running some serious application. Hey, the code got faster, at a cost of several hundred dollars for each GPU board.\n",
    "\n",
    "Chip designers jumped on this idea as well and included small GPU devices on their processor chips, just like they did with multiple cores. The result is today's supercomputer world! Huge numbers of small computer machines, all running Linux, most sporting the best GPU board they can find (or afford) and housed in big facilities where they can be powered and cooled."
   ]
  },
  {
   "cell_type": "markdown",
   "id": "5ae5da25-7d29-43f7-b944-b958f93e8230",
   "metadata": {},
   "source": [
    "### NCAR Cheyenne Supercomputer\n",
    "\n",
    "A few years ago, while visiting relatives in Cheyenne, WY, I visited the *National Center for Atmospheric Research Supercomputer Center*, which is the home of the 58th fastest machine today! This computer consists of 4032 *compute nodes* each sporting two Intel 18-core processors and 256GB of RAM! \n",
    "\n",
    "Since I used to run a supercomputer center, they gave me a VIP tour of the facility:\n",
    "\n",
    "\n",
    "```{image} assets/images/ncar-cheyenne.png\n",
    ":alt: NCAR Cheyenne Supercomputer\n",
    ":class: bg-primary mb-1\n",
    ":width: 400px\n",
    ":align: center\n",
    "```\n",
    "\n",
    "The actual machine fills up a rather large room, and the facility is next to a huge lake that supplies cooling water. Nearby, there is a wind farm that supplies some of the power for the machine.\n",
    "\n",
    "I had them open up the back of one of these cases to see the network wiring:\n",
    "\n",
    "\n",
    "```{image} assets/images/ncar-cheyenne-interconnect.png\n",
    ":alt: NCAR Cheyenne Network Wiring\n",
    ":class: bg-primary mb-1\n",
    ":width: 400px\n",
    ":align: center\n",
    "```\n",
    "The complete machine has over 145,000 cores and 432 terabytes of memory! This machine can reach 5.4 PetaFLOPS (peta = 1 billion x 1 billion!)\n",
    "\n",
    "Pretty fast! But the 2023 Top500 list of supercomputers put another machine at the top as the fastest in the world!"
   ]
  },
  {
   "cell_type": "markdown",
   "id": "eb2887e3-f15b-4b8f-866b-aa16fc0ff56d",
   "metadata": {},
   "source": [
    "### DOE Oak Ridge Frontier"
   ]
  },
  {
   "cell_type": "markdown",
   "id": "013c1f02-b880-4966-9186-3de6977cbd5e",
   "metadata": {},
   "source": [
    "The top machine for 2023 has 8699905 AMD 2ghz processors and runs at a staggering 1.194 ExaFLOPS\n",
    "\n",
    "\n",
    "```{image} assets/images/oak-ridge-frontier.png\n",
    ":alt: DOE Oak Ridge Frontier Supercomputer\n",
    ":class: bg-primary mb-1\n",
    ":width: 400px\n",
    ":align: center\n",
    "```\n",
    "\n",
    "```{note}\n",
    "Just for reference, here are the speed terms:\n",
    "\n",
    "- Giga = 1 billion\n",
    "- Tera = 1000 Giga\n",
    "- Peta = 1000 Tera\n",
    "- Exa = 1000 Peta\n",
    "```\n",
    "\n",
    "Unfortunately, it takes $40 million to buy one of these, and it needs 1727 kilowatts of power to turn it on! Fortunately, it runs using the same Linux libraries I use on my baby cluster.\n",
    "\n",
    "I doubt I can get time on this machine, but I hope to try one of my programs on Cheyenne! "
   ]
  },
  {
   "cell_type": "markdown",
   "id": "9d2adbf8-b3c8-463d-9f7f-e7960c48ecdc",
   "metadata": {},
   "source": [
    "## Is This the End?"
   ]
  },
  {
   "cell_type": "markdown",
   "id": "1612b429-a2ad-4c77-a9f5-ac753c3e2412",
   "metadata": {
    "jp-MarkdownHeadingCollapsed": true
   },
   "source": [
    "Have we reached the end of this march toward speed in computing? I think not.\n",
    "\n",
    "Think about what that last machine has going on inside. There are thousands of general-purpose computer machines, any one of which would be a nice addition to your home office (well, not really - those Intel processors cost about $2500 each!)\n",
    "\n",
    "Each processor has a private copy of Linux installed and all the networking support and other management code needed to wake the machine up and load your research program. That is a lot of overhead. Could we do better?"
   ]
  },
  {
   "cell_type": "markdown",
   "id": "1e1ad83a-65be-463c-9d7c-9c28a98dd27f",
   "metadata": {
    "jp-MarkdownHeadingCollapsed": true
   },
   "source": [
    "### Baby Machines"
   ]
  },
  {
   "cell_type": "markdown",
   "id": "032b2377-1cb9-43bb-a948-aa5c11dd50b1",
   "metadata": {
    "jp-MarkdownHeadingCollapsed": true
   },
   "source": [
    "Looking at my research code, I am struck by how simple the basic operations actually are. Most of the work is just a giant loop over each data point in a grid, with several hundred simple math operations being processed. Those calculations must fetch numbers from memory, and store results back into memory. That adds up to a lot of work, but does it take a mega-buck machine to do just that?\n",
    "\n",
    "Here is a basic computer processor I used in my *Computer Architecture* courses at *Austin Community College* where I taught Computer Science for 17 years.\n",
    "\n",
    "\n",
    "```{image} assets/images/attiny-85.png\n",
    ":alt: ATtiny82 Microprocessor\n",
    ":class: bg-primary mb-1\n",
    ":width: 300px\n",
    ":align: center\n",
    "```\n",
    "\n",
    "This little chip holds a complete computer with internal memory for both programs and data. It has enough calculating power to do some real work. Normally, these little chips end up by the dozens in your home appliances and even your car! My students used this chip as a basis for writing a C++ program that simulated what was going on inside. It was a lot of fun and a challenge for new C++ programmers!\n",
    "\n",
    "Connecting each chip to another chip requires one wire. Unfortunately, there are not that many places where we can attach a single wire. There are only eight pins on this thing.\n",
    "\n",
    "What if we created a grid of these chips and interconnected them the same way we create a computational grid for our aero problems? We could have thousands of these critters in a box that would fit on your desk!"
   ]
  },
  {
   "cell_type": "markdown",
   "id": "925331e2-3fab-4376-b500-fadd9e02bc1d",
   "metadata": {},
   "source": [
    "### Custom Computers"
   ]
  },
  {
   "cell_type": "markdown",
   "id": "a9afe028-23df-4cab-8b75-e94ffef4b78a",
   "metadata": {
    "jp-MarkdownHeadingCollapsed": true
   },
   "source": [
    "That little machine is still pretty general-purpose, and only processes eight bits at a time. We can do enev better!\n",
    "\n",
    "We have been building computers, or rather, growing computers, for long enough to see basic patterns in how the chip hardware is laid out. Most current computers were designed with no thought (well, little thought) into the specific problems they will process. Chip designers have devised a tactic to build a chip with a pattern of basic parts and interconnects that can be programmed to create a specific design. Basically, we add code that hooks up the parts the way we want. These chips are called *Field Programmable Gate Arrays*. They offer another potential revolution in computing.\n",
    "\n",
    "What if we custom-design a chip to do our CFD problems? We can manufacture these custom chips as needed to build the machine we need for just our specific problems. Create custom boards to mount and power everything and run your problems! No operating system is needed, just your code and basic support code to make the calculations fly and the data move around! \n",
    "\n",
    "Is this even feasible? I can see a world where we start with our basic mathematical definition of the solution we want, add in a geometry of data points we will need to analyze the flow field, then let a sophisticated compiler assess the math and figure out how to design and interconnect our custom machines to generate a solver."
   ]
  },
  {
   "cell_type": "markdown",
   "id": "97887420-0746-4ebf-9505-e77317c0eb94",
   "metadata": {},
   "source": [
    "### What ABout AI?"
   ]
  },
  {
   "cell_type": "markdown",
   "id": "48650753-44f9-4e25-bd09-8d5363486b7e",
   "metadata": {
    "jp-MarkdownHeadingCollapsed": true
   },
   "source": [
    "If we mix in some AI, we can probably figure out how to actually work only where we need to work, not everywhere. If you watch a typical CFD program evolve a solution, you discover that there are many regions where nothing much is happening, yet we spend as much time doing work there as we do where things are really changing. Perhaps AI can help us figure out how to limit this wasted work. \n",
    "\n",
    "How about a machine tuning itself to the evolving problem as it runs? If we can reprogram an FPGA, why not do that while a program runs? \n",
    "\n",
    "This kind of machine is not on the market yet, but the technology is here now.\n",
    "\n",
    "Your job is to step out of your basic aero mindset and think about what we might do in a future computer world; you dreamers might make your job more effective!"
   ]
  },
  {
   "cell_type": "markdown",
   "id": "5f688a57-b26b-4aea-96b2-7585ebce74cc",
   "metadata": {},
   "source": [
    "## Enough Computer History, time for CFD!"
   ]
  },
  {
   "cell_type": "markdown",
   "id": "197ec303-dc34-4853-bb63-f1c4267e1b57",
   "metadata": {},
   "source": [
    "We have looked at the evolution of the computers we use to do serious CFD work. In this section, I will show you a very simple (by today's standards) piece of code I wrote about 1975 to solve the axisymmetric flow over an ogive-cylinder body flying at Mach 6. The program uses a solution procedure developed by Robert MacCormack at NASA Ames in 1969. I worked with those researchers for a month back in 1975.\n",
    "\n",
    "```{note}\n",
    "This code was the first step in my Ph.D. work, which I sadly never completed - I was too busy working on topics with what would eventually switch me from Aeronautical Engineering to Computer Science!\n",
    "```"
   ]
  },
  {
   "cell_type": "markdown",
   "id": "84c46161-f523-4e8a-980b-cb3d24b196d5",
   "metadata": {},
   "source": [
    "### Axisymmetric Hypersonic flow\n",
    "\n",
    "From the description of the machines available in 1973 when I started on this project, you can see that the power of the day was really limited. We did not have much memory available, and we had to work within those limits. Working on a big grid of data points in a space-limited machine means we had to work on blocks of grid points and worry about moving blocks around. \n",
    "\n",
    "We did not know it then, but we were preparing ourselves for the future when massively parallel machines would attack our problems and face the same issues.\n",
    "\n",
    "Most of the early CFD codes developed used the time-dependent equations, which started off assuming the vehicle was at rest and instantaneously placed in a moving stream of some fluid. The equations caused those initial conditions to evolve into a steady-state solution (we hoped). Various schemes were developed to deal with a fundamental problem with this approach - instability.\n",
    "\n",
    "I chose to experiment with an approach to solving high-speed flow over fairly simple 3D vehicles by eliminating the time dependency and removing the terms that required a solution scheme that looked upwind as it evolved - a parabolic set of equations. The scheme was simple enough- selectively eliminate any term that annoyed you and see what happened.\n",
    "\n",
    "What you ended up with was a procedure that could be marched in the axial direction (with the flow) exactly the same way we marched in time. \n",
    "\n",
    "For my experiments, I used a solution scheme developed by Robert MacCormack in 1969 at NASA Ames. It was called a \"Predictor-Corrector* scheme, still in use today.\n",
    "\n",
    "I used an interesting scheme to avoid looping over the grid twice, once for the predictor step, then again for the corrector step. Instead, I set up a small \"working array\" to store predictor values. As soon as enough of these were available, I processed the corrector step and saved the final result back in memory. The CDC-6600 was a small memory machine, and this really helped!"
   ]
  },
  {
   "cell_type": "markdown",
   "id": "f799847e-13a8-46a8-9767-3c7917d518aa",
   "metadata": {},
   "source": [
    "In 2003, the original Fortran code was translated into Fortran as part of my work on a second Master's degree in COmputer Science. The final results can be seen in a Python animation!"
   ]
  }
 ],
 "metadata": {
  "kernelspec": {
   "display_name": "Python 3 (ipykernel)",
   "language": "python",
   "name": "python3"
  },
  "language_info": {
   "codemirror_mode": {
    "name": "ipython",
    "version": 3
   },
   "file_extension": ".py",
   "mimetype": "text/x-python",
   "name": "python",
   "nbconvert_exporter": "python",
   "pygments_lexer": "ipython3",
   "version": "3.11.2"
  }
 },
 "nbformat": 4,
 "nbformat_minor": 5
}
